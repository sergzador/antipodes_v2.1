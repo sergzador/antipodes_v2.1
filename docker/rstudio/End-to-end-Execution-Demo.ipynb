{
 "cells": [
  {
   "cell_type": "code",
   "execution_count": 16,
   "id": "83d1bbd1-e9d2-4c0c-a8aa-82138e8b5c91",
   "metadata": {},
   "outputs": [],
   "source": [
    "#SCRIPT LOGIC:\n",
    "    # - data from THREE tables are extracted from web page by using XPATH and rvest package\n",
    "    # - XPATH is validated against expected table and column (field) names and if table name or at least one of the column names does not pass validation, such table is exclduded from syncing into DB\n",
    "    # - SQL database keeps records of all changes. Latest data has LATEST_FLAG = 'Y'\n",
    "    # - SQL database, talbes and user and created separately\n",
    "    # - comparison between data from WEB and SQL Server is executed in R and in case of detected change SQL INSERT and UPDATE queries are generated and executed\n",
    "\n",
    "# FUNCTIONS (UDF):\n",
    "    # - val_from_xpath\n",
    "    # - num_from_val\n",
    "    # - connect_mssql\n",
    "    # - replace_na\n",
    "    # - sync_web_to_db"
   ]
  },
  {
   "cell_type": "markdown",
   "id": "b44d4201-ec5e-4cce-b042-6cb3ae0cb084",
   "metadata": {
    "tags": []
   },
   "source": [
    "### Imports"
   ]
  },
  {
   "cell_type": "code",
   "execution_count": 17,
   "id": "31a19b37-b601-415a-96c4-5ea849f92cfb",
   "metadata": {},
   "outputs": [],
   "source": [
    "library(dplyr, warn.conflicts=FALSE)\n",
    "library(rvest)\n",
    "library(stringr)\n",
    "library(RODBC)"
   ]
  },
  {
   "cell_type": "markdown",
   "id": "79ef7c64-9fda-4b85-a286-bf84dd9092ef",
   "metadata": {
    "tags": []
   },
   "source": [
    "### Parameters"
   ]
  },
  {
   "cell_type": "code",
   "execution_count": 18,
   "id": "8ecb6cc9-d7d6-455d-b400-7e2d622e2f86",
   "metadata": {},
   "outputs": [],
   "source": [
    "url <- \"https://www.invesco.com/us/financial-products/etfs/product-detail?audienceType=Investor&ticker=BKLN\""
   ]
  },
  {
   "cell_type": "markdown",
   "id": "c53add62-f2c7-4c06-b0e1-9e17894bcd06",
   "metadata": {},
   "source": [
    "### Support functions"
   ]
  },
  {
   "cell_type": "code",
   "execution_count": 19,
   "id": "bef04f62-9940-42a4-a921-27937e1cf044",
   "metadata": {},
   "outputs": [],
   "source": [
    "val_from_xpath <- function(url, xpth) {\n",
    "    # extracts text from web page element based on web page url and xpath\n",
    "    value <- url %>%\n",
    "    read_html() %>%\n",
    "    html_nodes(xpath=xpth) %>%\n",
    "    html_text2()\n",
    "    # cleans text by removing line breaks and extra whitespaces\n",
    "    clean_text <-tolower(str_squish(gsub(\"[\\n\\t\\r*]\",\"\",value)))[1] #[1]in case returns list\n",
    "    return(clean_text)\n",
    "      }\n",
    "\n",
    "num_from_val <-function(text) {\n",
    "# converts text into number after removing per cent, dollar sign and asterisk\n",
    "number  <- as.numeric(gsub(\"[%$]\",\"\",text))\n",
    "\n",
    "#if value has per cent sign, devide by 100\n",
    "if (grepl('%',text)) {\n",
    "  number <- number/100\n",
    "}\n",
    "return(number)\n",
    "}\n",
    "  \n",
    "connect_mssql<- function(server,database,username,password) {\n",
    "  #connect to SQL Server DB\n",
    "conn_string <- paste(\"Driver={ODBC Driver 17 for SQL Server};Server=\",server,\";database=\",database,\";UID=\",username,\";PWD=\",password,sep='')\n",
    "print(paste('Connecting, using:',conn_string))\n",
    "conn <- odbcDriverConnect(conn_string)\n",
    " # to run a query : sqlQuery(conn,'select * from information_schema.tables')\n",
    "return(conn)}\n",
    "\n",
    "replace_na <- function(inp) {\n",
    "  # this function is used to make NA comparable to strings and avoiding installing extra library like tidyr\n",
    "  if (is.na(inp)) {\n",
    "    inp <-'none'}\n",
    "    return(inp)\n",
    "  }\n",
    "\n",
    "\n"
   ]
  },
  {
   "cell_type": "markdown",
   "id": "f17e2ba1-642e-41ce-9690-1d3d0b44e7c1",
   "metadata": {},
   "source": [
    "### Main extract and load function"
   ]
  },
  {
   "cell_type": "code",
   "execution_count": 20,
   "id": "bdf0cb92-d8ca-4ce3-a661-be26a3aa109d",
   "metadata": {},
   "outputs": [],
   "source": [
    "sync_web_to_db <-function(conn) {\n",
    "# takes RODBC connection object as argument\n",
    "#create connection to DB\n",
    "\n",
    "#create dataframe with xpath for every table name\n",
    "df_table_xpath <- data.frame(table_name=character(), \n",
    "                            xpath=character(),   \n",
    "                            table_name_validation=character())\n",
    "\n",
    "#populate table xpath dataframe (easier to maintain this way)\n",
    "df_table_xpath[nrow(df_table_xpath)+1, ] <- c('intraday', '//*[@id=\"overview-details\"]/div[1]/h3', 'bkln intraday stats')\n",
    "df_table_xpath[nrow(df_table_xpath)+1, ] <- c('yield', '//*[@id=\"overview-details\"]/div[3]/h3/text()', 'yield')\n",
    "df_table_xpath[nrow(df_table_xpath)+1, ] <- c('prior close', '//*[@id=\"overview-details\"]/div[4]/h3', 'prior close')\n",
    "\n",
    "#excluded fund characteristics because it's very unstable and on some days was totally blank\n",
    "#df_table_xpath[nrow(df_table_xpath)+1, ] <- c('fund characteristics', '//*[@id=\"overview-details\"]/div[6]/h3', 'fund characteristics')\n",
    "\n",
    "\n",
    "#list all tables\n",
    "all_tables_lst <-  df_table_xpath[, 'table_name']\n",
    "\n",
    "#list of tables that passes validation\n",
    "valid_tables_lst <- c()\n",
    "\n",
    "#table name validation with saving to the list of tables passing validation \n",
    "for (tb in all_tables_lst) {\n",
    "    xpath <- filter(df_table_xpath,  table_name == tb)['xpath'][1, 1]\n",
    "    \n",
    "    table_name_vailid <-filter(df_table_xpath,  table_name == tb)['table_name_validation'][1, 1]\n",
    "    \n",
    "    table_name_web <-val_from_xpath(url,  xpath)\n",
    "    \n",
    "    if (table_name_web == table_name_vailid) {\n",
    "        valid_tables_lst <- append(valid_tables_lst,  tb)\n",
    "    } \n",
    "    else {\n",
    "        print(paste(tb, \"have not passed validation\"))\n",
    "    }\n",
    "}\n",
    "#summary of table name validation\n",
    "print(paste('Total number of tables:',length(all_tables_lst),'Number of tables passed table_name validation',length(valid_tables_lst)))\n",
    "\n",
    "#create dataframe with xpath for every column name, table_name values MUST match with df_table_xpath\n",
    "df_column_xpath <- data.frame(table_name=character(),  #from df_table_xpath\n",
    "                             field_name_xpath=character(),   \n",
    "                             field_name_validation=character(),  # used for validation and as field name\n",
    "                             field_value_xpath=character(), \n",
    "                             stringsAsFactors=FALSE)\n",
    "\n",
    "#populate table xpath dataframe (easier to maintain this way)\n",
    "# in production I'd rather sourced this from Docker volume\n",
    "df_column_xpath[nrow(df_column_xpath)+1, ] <- c('intraday', '//*[@id=\"overview-details\"]/div[1]/ul/li[1]/text()', 'last trade', '//*[@id=\"overview-details\"]/div[1]/ul/li[1]/span')\n",
    "df_column_xpath[nrow(df_column_xpath)+1, ] <- c('intraday', '//*[@id=\"overview-details\"]/div[1]/ul/li[2]/span[1]/text()', 'current iiv', '//*[@id=\"overview-details\"]/div[1]/ul/li[2]/span[2]')\n",
    "df_column_xpath[nrow(df_column_xpath)+1, ] <- c('intraday', '//*[@id=\"overview-details\"]/div[1]/ul/li[3]/text()', 'change', '//*[@id=\"overview-details\"]/div[1]/ul/li[3]/span/text()')\n",
    "df_column_xpath[nrow(df_column_xpath)+1, ] <- c('intraday', '//*[@id=\"overview-details\"]/div[1]/ul/li[4]/span[1]/text()', '% change', '//*[@id=\"overview-details\"]/div[1]/ul/li[4]/span[2]/text()')\n",
    "df_column_xpath[nrow(df_column_xpath)+1, ] <- c('intraday', '//*[@id=\"overview-details\"]/div[2]/ul/li/span[1]', 'nav at market close', '//*[@id=\"overview-details\"]/div[2]/ul/li/span[2]')\n",
    "df_column_xpath[nrow(df_column_xpath)+1, ] <- c('yield', '//*[@id=\"overview-details\"]/div[3]/ul/li[1]/span[1]/text()', 'sec 30 day yield', '//*[@id=\"overview-details\"]/div[3]/ul/li[1]/span[2]')\n",
    "df_column_xpath[nrow(df_column_xpath)+1, ] <- c('yield', '//*[@id=\"overview-details\"]/div[3]/ul/li[2]/span[1]/text()', 'distribution rate', '//*[@id=\"overview-details\"]/div[3]/ul/li[2]/span[2]')\n",
    "df_column_xpath[nrow(df_column_xpath)+1, ] <- c('yield', '//*[@id=\"overview-details\"]/div[3]/ul/li[3]/span[1]/text()', '12 month distribution rate', '//*[@id=\"overview-details\"]/div[3]/ul/li[3]/span[2]')\n",
    "df_column_xpath[nrow(df_column_xpath)+1, ] <- c('yield', '//*[@id=\"overview-details\"]/div[3]/ul/li[4]/span/text()', '30-day sec unsubsidized yield', '//*[@id=\"overview-details\"]/div[3]/ul/li[4]/div/div[1]')\n",
    "df_column_xpath[nrow(df_column_xpath)+1, ] <- c('prior close', '//*[@id=\"overview-details\"]/div[4]/ul/li[1]/span[1]', 'closing price', '//*[@id=\"overview-details\"]/div[4]/ul/li[1]/span[2]')\n",
    "df_column_xpath[nrow(df_column_xpath)+1, ] <- c('prior close', '//*[@id=\"overview-details\"]/div[4]/ul/li[2]/span[1]/text()', 'bid/ask midpoint', '//*[@id=\"overview-details\"]/div[4]/ul/li[2]/span[2]')\n",
    "df_column_xpath[nrow(df_column_xpath)+1, ] <- c('prior close', '//*[@id=\"overview-details\"]/div[4]/ul/li[3]/span[1]/text()', 'bid/ask prem/disc', '//*[@id=\"overview-details\"]/div[4]/ul/li[3]/span[2]')\n",
    "df_column_xpath[nrow(df_column_xpath)+1, ] <- c('prior close', '//*[@id=\"overview-details\"]/div[4]/ul/li[4]/span[1]', 'bid/ask prem/disc', '//*[@id=\"overview-details\"]/div[4]/ul/li[4]/span[2]')\n",
    "df_column_xpath[nrow(df_column_xpath)+1, ] <- c('prior close', '//*[@id=\"overview-details\"]/div[5]/ul/li/span[1]/text()', 'median bid/ask spread', '//*[@id=\"overview-details\"]/div[5]/ul/li/span[2]')\n",
    "\n",
    "#excluded fund characteristics because it's very unstable and on some days was totally blank\n",
    "#df_column_xpath[nrow(df_column_xpath)+1, ] <- c('fund characteristics', '//*[@id=\"overview-details\"]/div[6]/ul[1]/li[1]/span[1]/text()', 'yield to maturity', '//*[@id=\"overview-details\"]/div[6]/ul[1]/li[1]/span[2]')\n",
    "\n",
    "#df_column_xpath[nrow(df_column_xpath)+1, ] <- c('fund characteristics', '//*[@id=\"overview-details\"]/div[6]/ul[2]/li[1]/span[1]/text()', '3 month libor', '//*[@id=\"overview-details\"]/div[6]/ul[2]/li[1]/span[2]')\n",
    "#df_column_xpath[nrow(df_column_xpath)+1, ] <- c('fund characteristics', '//*[@id=\"overview-details\"]/div[6]/ul[2]/li[2]/span[1]/text()', 'weighted avg price', '//*[@id=\"overview-details\"]/div[6]/ul[2]/li[2]/span[2]')\n",
    "\n",
    "\n",
    "#list of tables that has not passed column name validation\n",
    "invalid_tables_lst <-c()\n",
    "\n",
    "#if field name extracted from xpath does not match expected field name, table name is added to list that would be excluded from loading into DB\n",
    "for (i in seq(nrow(df_column_xpath))) {\n",
    "    expected_field_name <-  df_column_xpath[i,]['field_name_validation'][1,1]\n",
    "    xpath <- df_column_xpath[i,]['field_name_xpath'][1,1]\n",
    "    field_name_web <- val_from_xpath(url, xpath) \n",
    "    table_name  <-  df_column_xpath[i,]['table_name'][1,1]\n",
    "\n",
    "    if (expected_field_name != replace_na(field_name_web)) {\n",
    "        invalid_tables_lst <- append(invalid_tables_lst, table_name)\n",
    "        print(paste(\"Table [\",table_name, \"] has not passed column name validation because [\",expected_field_name,\"] is not equal to [\", field_name_web,\"]\"))\n",
    "    }\n",
    "}\n",
    "\n",
    "#summary of column name validation\n",
    "print(paste('Total number of tables:',length(valid_tables_lst),'Number of tables has NOT passed column_name validation',length(unique(invalid_tables_lst))))\n",
    "\n",
    "#extracing values from website, field_name_validation is used as column name for tables that passed table name and column name validation\n",
    "##intraday table\n",
    "if ('intraday' %in% valid_tables_lst & !('intraday' %in% invalid_tables_lst)) {\n",
    "last_trade=num_from_val(val_from_xpath(url, filter(df_column_xpath,  table_name == 'intraday' & field_name_validation == 'last trade' )['field_value_xpath'][1, 1] ))\n",
    "current_iiv=num_from_val(val_from_xpath(url, filter(df_column_xpath,  table_name == 'intraday' & field_name_validation == 'current iiv' )['field_value_xpath'][1, 1] ))\n",
    "change=num_from_val(val_from_xpath(url, filter(df_column_xpath,  table_name == 'intraday' & field_name_validation == 'change' )['field_value_xpath'][1, 1] ))\n",
    "change_pct=num_from_val(val_from_xpath(url, filter(df_column_xpath,  table_name == 'intraday' & field_name_validation == '% change' )['field_value_xpath'][1, 1] ))\n",
    "nav_at_market_close=num_from_val(val_from_xpath(url, filter(df_column_xpath,  table_name == 'intraday' & field_name_validation == 'nav at market close' )['field_value_xpath'][1, 1] ))\n",
    "\n",
    "# UPDATE LAST TRADE TABLE IN SQL DB\n",
    "df_lasttrade_db = sqlQuery(conn,\"select * from [WEB_DAILY].[INTRADAY_STATS] WHERE LATEST_FLAG = 'Y'\")\n",
    "\n",
    "last_trade_id_db <- df_lasttrade_db['ID'][1,1]\n",
    "last_trade_db <-df_lasttrade_db['LAST_TRADE'][1,1]\n",
    "current_iiv_db <-df_lasttrade_db['CURRENT_IIV'][1,1]\n",
    "change_db <-df_lasttrade_db['CHANGE'][1,1]\n",
    "change_pct_db <-df_lasttrade_db['CHANGE_PCT'][1,1]\n",
    "nav_at_market_close_db <-df_lasttrade_db['NAV_AT_MKT_CLOSE'][1,1]\n",
    "\n",
    "insert_query <-  paste(\"INSERT INTO WEB_DAILY.INTRADAY_STATS (TICKER, LAST_TRADE, CURRENT_IIV, CHANGE, CHANGE_PCT,NAV_AT_MKT_CLOSE, CURRENCY_CODE, LATEST_FLAG, CREATED_TSTP) VALUES ('BKLN',\",last_trade,\",\",current_iiv,\",\",change,\",\",change_pct,\",\",nav_at_market_close,\",'USD','Y',GETDATE());\")\n",
    "\n",
    "if(dim(df_lasttrade_db)[1] == 0) {\n",
    "    sqlQuery(conn, insert_query) # if table is empty insert 1st record\n",
    "    print(paste(\"EXECUTED:\",insert_query))} else if (\n",
    "\n",
    " !(last_trade_db == last_trade \n",
    "    & current_iiv_db == current_iiv \n",
    "    & change_db == change \n",
    "    & change_pct_db == change_pct \n",
    "    & nav_at_market_close_db == nav_at_market_close))  # if web data does not match db data...\n",
    "\n",
    "{\n",
    " sqlQuery(conn, insert_query) #... INSERT the record\n",
    " print(paste(\"EXECUTED:\",insert_query))\n",
    " update_query <- paste(\"UPDATE WEB_DAILY.INTRADAY_STATS SET LATEST_FLAG = 'N', UPDATED_TSTP = GETDATE() WHERE ID =\",last_trade_id_db)\n",
    " sqlQuery(conn, update_query)\n",
    " print(paste(\"EXECUTED:\",update_query))\n",
    "}\n",
    "}\n",
    "\n",
    "##yield table\n",
    "if ('yield' %in% valid_tables_lst & !('yield' %in% invalid_tables_lst)) {\n",
    "sec_30_day_yield=num_from_val(val_from_xpath(url, filter(df_column_xpath,  table_name == 'yield' & field_name_validation == 'sec 30 day yield' )['field_value_xpath'][1, 1] ))\n",
    "distribution_rate=num_from_val(val_from_xpath(url, filter(df_column_xpath,  table_name == 'yield' & field_name_validation == 'distribution rate' )['field_value_xpath'][1, 1] ))\n",
    "distribution_rate_12_month=num_from_val(val_from_xpath(url, filter(df_column_xpath,  table_name == 'yield' & field_name_validation == '12 month distribution rate' )['field_value_xpath'][1, 1] ))\n",
    "sec_unsubsidized_yield_30_day=num_from_val(val_from_xpath(url, filter(df_column_xpath,  table_name == 'yield' & field_name_validation == '30-day sec unsubsidized yield' )['field_value_xpath'][1, 1] ))\n",
    "         \n",
    "# UPDATE YIELD TABLE IN SQL DB\n",
    "df_yield_db = sqlQuery(conn,\"select * from [WEB_DAILY].[YIELD] WHERE LATEST_FLAG = 'Y'\")\n",
    "\n",
    "yield_id_db <- df_yield_db['ID'][1,1]\n",
    "sec_30_day_yield_db <-df_yield_db['SEC_30DAY_YIELD'][1,1]\n",
    "distribution_rate_db <-df_yield_db['DISTRIBUTION_RATE'][1,1]\n",
    "distribution_rate_12_month_db <-df_yield_db['DISTRIBUTION_RATE_12MNTH'][1,1]\n",
    "sec_unsubsidized_yield_30_day_db <-df_yield_db['SEC_30DAY_UNSUB_YIELD'][1,1]\n",
    "\n",
    "insert_query <-  paste(\"INSERT INTO WEB_DAILY.YIELD (TICKER, SEC_30DAY_YIELD, DISTRIBUTION_RATE, DISTRIBUTION_RATE_12MNTH, SEC_30DAY_UNSUB_YIELD , CURRENCY_CODE, LATEST_FLAG, CREATED_TSTP) VALUES ('BKLN',\",sec_30_day_yield,\",\",distribution_rate,\",\",distribution_rate_12_month,\",\",sec_unsubsidized_yield_30_day,\",'USD','Y',GETDATE());\")\n",
    "\n",
    "if(dim(df_yield_db)[1] == 0) {\n",
    "    sqlQuery(conn, insert_query) # if table is empty insert 1st record\n",
    "    print(paste(\"EXECUTED:\",insert_query))} else if (\n",
    "\n",
    " !(sec_30_day_yield_db == sec_30_day_yield \n",
    "    & distribution_rate_db == distribution_rate \n",
    "    & distribution_rate_12_month_db == distribution_rate_12_month \n",
    "    & sec_unsubsidized_yield_30_day_db == sec_unsubsidized_yield_30_day))  # if web data does not match db data...\n",
    "{\n",
    " sqlQuery(conn, insert_query) #... INSERT the record\n",
    " print(paste(\"EXECUTED:\",insert_query))\n",
    " update_query <- paste(\"UPDATE WEB_DAILY.YIELD SET LATEST_FLAG = 'N', UPDATED_TSTP = GETDATE() WHERE ID =\",yield_id_db)\n",
    " sqlQuery(conn, update_query)\n",
    " print(paste(\"EXECUTED:\",update_query))\n",
    "}\n",
    "}\n",
    "\n",
    "\n",
    "##prior close table\n",
    "if ('prior close' %in% valid_tables_lst & !('prior close' %in% invalid_tables_lst)) {\n",
    "closing_price=num_from_val(val_from_xpath(url, filter(df_column_xpath,  table_name == 'prior close' & field_name_validation == 'closing price' )['field_value_xpath'][1, 1] ))\n",
    "bid_ask_midpoint=num_from_val(val_from_xpath(url, filter(df_column_xpath,  table_name == 'prior close' & field_name_validation == 'bid/ask midpoint' )['field_value_xpath'][1, 1] ))\n",
    "bid_ask_prem_disc=num_from_val(val_from_xpath(url, filter(df_column_xpath,  table_name == 'prior close' & field_name_validation == 'bid/ask prem/disc' )['field_value_xpath'][1, 1] ))\n",
    "bid_ask_prem_disc_pct=num_from_val(val_from_xpath(url, filter(df_column_xpath,  table_name == 'prior close' & field_name_validation == 'bid/ask prem/disc' )['field_value_xpath'][2, 1] )) # same field name in source, hence returns two line df\n",
    "median_bid_ask_spread=num_from_val(val_from_xpath(url, filter(df_column_xpath,  table_name == 'prior close' & field_name_validation == 'median bid/ask spread' )['field_value_xpath'][1, 1] ))\n",
    "\n",
    "# UPDATE PRIOR CLOSE TABLE IN SQL DB\n",
    "df_prior_close_db = sqlQuery(conn,\"select * from [WEB_DAILY].[PRIOR_CLOSE] WHERE LATEST_FLAG = 'Y'\")\n",
    "\n",
    "prior_close_id_db <- df_prior_close_db['ID'][1,1]\n",
    "closing_price_db <-df_prior_close_db['CLOSING_PRICE'][1,1]\n",
    "bid_ask_midpoint_db <-df_prior_close_db['BID_ASK_MIDPOINT'][1,1]\n",
    "bid_ask_prem_disc_db <-df_prior_close_db['BID_ASK_PREM_DISC'][1,1]\n",
    "bid_ask_prem_disc_pct_db <-df_prior_close_db['BID_ASK_PREM_DISC_PCT'][1,1]\n",
    "median_bid_ask_spread_db <-df_prior_close_db['MEDIAN_BID_ASK_SPREAD'][1,1]\n",
    "\n",
    "\n",
    "insert_query <-  paste(\"INSERT INTO WEB_DAILY.PRIOR_CLOSE (TICKER, CLOSING_PRICE, BID_ASK_MIDPOINT, BID_ASK_PREM_DISC, BID_ASK_PREM_DISC_PCT , MEDIAN_BID_ASK_SPREAD , CURRENCY_CODE, LATEST_FLAG, CREATED_TSTP) VALUES ('BKLN',\",closing_price,\",\",bid_ask_midpoint,\",\",bid_ask_prem_disc,\",\",bid_ask_prem_disc_pct,\",\",median_bid_ask_spread,\",'USD','Y',GETDATE());\")\n",
    "\n",
    "if(dim(df_prior_close_db)[1] == 0) {\n",
    "    sqlQuery(conn, insert_query) # if table is empty insert 1st record\n",
    "    print(paste(\"EXECUTED:\",insert_query))} else if (\n",
    "\n",
    " !(closing_price_db == closing_price \n",
    "    & bid_ask_midpoint_db == bid_ask_midpoint \n",
    "    & bid_ask_prem_disc_db == bid_ask_prem_disc \n",
    "    & bid_ask_prem_disc_db == bid_ask_prem_disc \n",
    "    & median_bid_ask_spread_db == median_bid_ask_spread))  # if web data does not match db data...\n",
    "{\n",
    " sqlQuery(conn, insert_query) #... INSERT the record\n",
    " print(paste(\"EXECUTED:\",insert_query))\n",
    " update_query <- paste(\"UPDATE WEB_DAILY.PRIOR_CLOSE SET LATEST_FLAG = 'N', UPDATED_TSTP = GETDATE() WHERE ID =\",prior_close_id_db)\n",
    " sqlQuery(conn, update_query)\n",
    " print(paste(\"EXECUTED:\",update_query))\n",
    "}\n",
    "}\n",
    "}\n",
    "\n",
    "\n",
    "\n"
   ]
  },
  {
   "cell_type": "markdown",
   "id": "3f925da4-7fe7-4dce-aeef-7fe1e389378d",
   "metadata": {},
   "source": [
    "### Execution"
   ]
  },
  {
   "cell_type": "markdown",
   "id": "0370fa0e-8986-46c7-b44f-5439adef9abe",
   "metadata": {},
   "source": [
    "#### Create connectin to DB"
   ]
  },
  {
   "cell_type": "code",
   "execution_count": 21,
   "id": "0aec2ccb-3b7d-4ab0-8e7c-9bedaf2fd5b3",
   "metadata": {},
   "outputs": [],
   "source": [
    "#parameters\n",
    "db_server_name <- 'db'\n",
    "db_name <- 'INVDB'\n",
    "#etl user creds\n",
    "db_user <-'RUSER'\n",
    "db_pwd <- 'Welcome@toSQL2022'"
   ]
  },
  {
   "cell_type": "code",
   "execution_count": 22,
   "id": "bb8969c8-9604-4995-83f5-e9049b72b88a",
   "metadata": {},
   "outputs": [
    {
     "name": "stdout",
     "output_type": "stream",
     "text": [
      "[1] \"Connecting, using: Driver={ODBC Driver 17 for SQL Server};Server=db;database=INVDB;UID=RUSER;PWD=Welcome@toSQL2022\"\n"
     ]
    }
   ],
   "source": [
    "conn <- connect_mssql(db_server_name,db_name,db_user,db_pwd)"
   ]
  },
  {
   "cell_type": "markdown",
   "id": "006a8ab4-0ecf-4da6-a739-3eafaddce9bf",
   "metadata": {},
   "source": [
    "#### Demonstrate tables are empty"
   ]
  },
  {
   "cell_type": "code",
   "execution_count": 23,
   "id": "a09d77b1-c549-44a1-aafb-3aac1ffb7ef2",
   "metadata": {},
   "outputs": [
    {
     "data": {
      "text/html": [
       "<table class=\"dataframe\">\n",
       "<caption>A data.frame: 0 × 11</caption>\n",
       "<thead>\n",
       "\t<tr><th scope=col>ID</th><th scope=col>TICKER</th><th scope=col>LAST_TRADE</th><th scope=col>CURRENT_IIV</th><th scope=col>CHANGE</th><th scope=col>CHANGE_PCT</th><th scope=col>NAV_AT_MKT_CLOSE</th><th scope=col>CURRENCY_CODE</th><th scope=col>CREATED_TSTP</th><th scope=col>UPDATED_TSTP</th><th scope=col>LATEST_FLAG</th></tr>\n",
       "\t<tr><th scope=col>&lt;int&gt;</th><th scope=col>&lt;chr&gt;</th><th scope=col>&lt;chr&gt;</th><th scope=col>&lt;chr&gt;</th><th scope=col>&lt;chr&gt;</th><th scope=col>&lt;chr&gt;</th><th scope=col>&lt;chr&gt;</th><th scope=col>&lt;chr&gt;</th><th scope=col>&lt;chr&gt;</th><th scope=col>&lt;chr&gt;</th><th scope=col>&lt;chr&gt;</th></tr>\n",
       "</thead>\n",
       "<tbody>\n",
       "</tbody>\n",
       "</table>\n"
      ],
      "text/latex": [
       "A data.frame: 0 × 11\n",
       "\\begin{tabular}{lllllllllll}\n",
       " ID & TICKER & LAST\\_TRADE & CURRENT\\_IIV & CHANGE & CHANGE\\_PCT & NAV\\_AT\\_MKT\\_CLOSE & CURRENCY\\_CODE & CREATED\\_TSTP & UPDATED\\_TSTP & LATEST\\_FLAG\\\\\n",
       " <int> & <chr> & <chr> & <chr> & <chr> & <chr> & <chr> & <chr> & <chr> & <chr> & <chr>\\\\\n",
       "\\hline\n",
       "\\end{tabular}\n"
      ],
      "text/markdown": [
       "\n",
       "A data.frame: 0 × 11\n",
       "\n",
       "| ID &lt;int&gt; | TICKER &lt;chr&gt; | LAST_TRADE &lt;chr&gt; | CURRENT_IIV &lt;chr&gt; | CHANGE &lt;chr&gt; | CHANGE_PCT &lt;chr&gt; | NAV_AT_MKT_CLOSE &lt;chr&gt; | CURRENCY_CODE &lt;chr&gt; | CREATED_TSTP &lt;chr&gt; | UPDATED_TSTP &lt;chr&gt; | LATEST_FLAG &lt;chr&gt; |\n",
       "|---|---|---|---|---|---|---|---|---|---|---|\n",
       "\n"
      ],
      "text/plain": [
       "     ID TICKER LAST_TRADE CURRENT_IIV CHANGE CHANGE_PCT NAV_AT_MKT_CLOSE\n",
       "     CURRENCY_CODE CREATED_TSTP UPDATED_TSTP LATEST_FLAG"
      ]
     },
     "metadata": {},
     "output_type": "display_data"
    }
   ],
   "source": [
    "sqlQuery(conn,\"select * from WEB_DAILY.INTRADAY_STATS\")"
   ]
  },
  {
   "cell_type": "code",
   "execution_count": 24,
   "id": "f8acba01-ca3a-4d05-b548-82d998e35452",
   "metadata": {},
   "outputs": [
    {
     "data": {
      "text/html": [
       "<table class=\"dataframe\">\n",
       "<caption>A data.frame: 0 × 10</caption>\n",
       "<thead>\n",
       "\t<tr><th scope=col>ID</th><th scope=col>TICKER</th><th scope=col>SEC_30DAY_YIELD</th><th scope=col>DISTRIBUTION_RATE</th><th scope=col>DISTRIBUTION_RATE_12MNTH</th><th scope=col>SEC_30DAY_UNSUB_YIELD</th><th scope=col>CURRENCY_CODE</th><th scope=col>CREATED_TSTP</th><th scope=col>UPDATED_TSTP</th><th scope=col>LATEST_FLAG</th></tr>\n",
       "\t<tr><th scope=col>&lt;int&gt;</th><th scope=col>&lt;chr&gt;</th><th scope=col>&lt;chr&gt;</th><th scope=col>&lt;chr&gt;</th><th scope=col>&lt;chr&gt;</th><th scope=col>&lt;chr&gt;</th><th scope=col>&lt;chr&gt;</th><th scope=col>&lt;chr&gt;</th><th scope=col>&lt;chr&gt;</th><th scope=col>&lt;chr&gt;</th></tr>\n",
       "</thead>\n",
       "<tbody>\n",
       "</tbody>\n",
       "</table>\n"
      ],
      "text/latex": [
       "A data.frame: 0 × 10\n",
       "\\begin{tabular}{llllllllll}\n",
       " ID & TICKER & SEC\\_30DAY\\_YIELD & DISTRIBUTION\\_RATE & DISTRIBUTION\\_RATE\\_12MNTH & SEC\\_30DAY\\_UNSUB\\_YIELD & CURRENCY\\_CODE & CREATED\\_TSTP & UPDATED\\_TSTP & LATEST\\_FLAG\\\\\n",
       " <int> & <chr> & <chr> & <chr> & <chr> & <chr> & <chr> & <chr> & <chr> & <chr>\\\\\n",
       "\\hline\n",
       "\\end{tabular}\n"
      ],
      "text/markdown": [
       "\n",
       "A data.frame: 0 × 10\n",
       "\n",
       "| ID &lt;int&gt; | TICKER &lt;chr&gt; | SEC_30DAY_YIELD &lt;chr&gt; | DISTRIBUTION_RATE &lt;chr&gt; | DISTRIBUTION_RATE_12MNTH &lt;chr&gt; | SEC_30DAY_UNSUB_YIELD &lt;chr&gt; | CURRENCY_CODE &lt;chr&gt; | CREATED_TSTP &lt;chr&gt; | UPDATED_TSTP &lt;chr&gt; | LATEST_FLAG &lt;chr&gt; |\n",
       "|---|---|---|---|---|---|---|---|---|---|\n",
       "\n"
      ],
      "text/plain": [
       "     ID TICKER SEC_30DAY_YIELD DISTRIBUTION_RATE DISTRIBUTION_RATE_12MNTH\n",
       "     SEC_30DAY_UNSUB_YIELD CURRENCY_CODE CREATED_TSTP UPDATED_TSTP LATEST_FLAG"
      ]
     },
     "metadata": {},
     "output_type": "display_data"
    }
   ],
   "source": [
    "sqlQuery(conn,\"select * from WEB_DAILY.YIELD\")"
   ]
  },
  {
   "cell_type": "code",
   "execution_count": 25,
   "id": "ba1df58d-904d-489c-a7b9-03c28c4c5ea6",
   "metadata": {},
   "outputs": [
    {
     "data": {
      "text/html": [
       "<table class=\"dataframe\">\n",
       "<caption>A data.frame: 0 × 11</caption>\n",
       "<thead>\n",
       "\t<tr><th scope=col>ID</th><th scope=col>TICKER</th><th scope=col>CLOSING_PRICE</th><th scope=col>BID_ASK_MIDPOINT</th><th scope=col>BID_ASK_PREM_DISC</th><th scope=col>BID_ASK_PREM_DISC_PCT</th><th scope=col>MEDIAN_BID_ASK_SPREAD</th><th scope=col>CURRENCY_CODE</th><th scope=col>CREATED_TSTP</th><th scope=col>UPDATED_TSTP</th><th scope=col>LATEST_FLAG</th></tr>\n",
       "\t<tr><th scope=col>&lt;int&gt;</th><th scope=col>&lt;chr&gt;</th><th scope=col>&lt;chr&gt;</th><th scope=col>&lt;chr&gt;</th><th scope=col>&lt;chr&gt;</th><th scope=col>&lt;chr&gt;</th><th scope=col>&lt;chr&gt;</th><th scope=col>&lt;chr&gt;</th><th scope=col>&lt;chr&gt;</th><th scope=col>&lt;chr&gt;</th><th scope=col>&lt;chr&gt;</th></tr>\n",
       "</thead>\n",
       "<tbody>\n",
       "</tbody>\n",
       "</table>\n"
      ],
      "text/latex": [
       "A data.frame: 0 × 11\n",
       "\\begin{tabular}{lllllllllll}\n",
       " ID & TICKER & CLOSING\\_PRICE & BID\\_ASK\\_MIDPOINT & BID\\_ASK\\_PREM\\_DISC & BID\\_ASK\\_PREM\\_DISC\\_PCT & MEDIAN\\_BID\\_ASK\\_SPREAD & CURRENCY\\_CODE & CREATED\\_TSTP & UPDATED\\_TSTP & LATEST\\_FLAG\\\\\n",
       " <int> & <chr> & <chr> & <chr> & <chr> & <chr> & <chr> & <chr> & <chr> & <chr> & <chr>\\\\\n",
       "\\hline\n",
       "\\end{tabular}\n"
      ],
      "text/markdown": [
       "\n",
       "A data.frame: 0 × 11\n",
       "\n",
       "| ID &lt;int&gt; | TICKER &lt;chr&gt; | CLOSING_PRICE &lt;chr&gt; | BID_ASK_MIDPOINT &lt;chr&gt; | BID_ASK_PREM_DISC &lt;chr&gt; | BID_ASK_PREM_DISC_PCT &lt;chr&gt; | MEDIAN_BID_ASK_SPREAD &lt;chr&gt; | CURRENCY_CODE &lt;chr&gt; | CREATED_TSTP &lt;chr&gt; | UPDATED_TSTP &lt;chr&gt; | LATEST_FLAG &lt;chr&gt; |\n",
       "|---|---|---|---|---|---|---|---|---|---|---|\n",
       "\n"
      ],
      "text/plain": [
       "     ID TICKER CLOSING_PRICE BID_ASK_MIDPOINT BID_ASK_PREM_DISC\n",
       "     BID_ASK_PREM_DISC_PCT MEDIAN_BID_ASK_SPREAD CURRENCY_CODE CREATED_TSTP\n",
       "     UPDATED_TSTP LATEST_FLAG"
      ]
     },
     "metadata": {},
     "output_type": "display_data"
    }
   ],
   "source": [
    "sqlQuery(conn,\"select * from WEB_DAILY.PRIOR_CLOSE\")"
   ]
  },
  {
   "cell_type": "markdown",
   "id": "b3e055a9-274d-45ba-9360-f165feceb3d4",
   "metadata": {},
   "source": [
    "#### Now extract data from Web and load into DB"
   ]
  },
  {
   "cell_type": "code",
   "execution_count": 26,
   "id": "6c98610c-383c-4fd5-9c11-c3476d1746f4",
   "metadata": {},
   "outputs": [
    {
     "name": "stdout",
     "output_type": "stream",
     "text": [
      "[1] \"Total number of tables: 3 Number of tables passed table_name validation 3\"\n",
      "[1] \"Total number of tables: 3 Number of tables has NOT passed column_name validation 0\"\n",
      "[1] \"EXECUTED: INSERT INTO WEB_DAILY.INTRADAY_STATS (TICKER, LAST_TRADE, CURRENT_IIV, CHANGE, CHANGE_PCT,NAV_AT_MKT_CLOSE, CURRENCY_CODE, LATEST_FLAG, CREATED_TSTP) VALUES ('BKLN', 20.34 , 20.49 , -0.04 , -0.002 , 20.5 ,'USD','Y',GETDATE());\"\n",
      "[1] \"EXECUTED: INSERT INTO WEB_DAILY.YIELD (TICKER, SEC_30DAY_YIELD, DISTRIBUTION_RATE, DISTRIBUTION_RATE_12MNTH, SEC_30DAY_UNSUB_YIELD , CURRENCY_CODE, LATEST_FLAG, CREATED_TSTP) VALUES ('BKLN', 0.0594 , 0.0507 , 0.0373 , 0.0593 ,'USD','Y',GETDATE());\"\n",
      "[1] \"EXECUTED: INSERT INTO WEB_DAILY.PRIOR_CLOSE (TICKER, CLOSING_PRICE, BID_ASK_MIDPOINT, BID_ASK_PREM_DISC, BID_ASK_PREM_DISC_PCT , MEDIAN_BID_ASK_SPREAD , CURRENCY_CODE, LATEST_FLAG, CREATED_TSTP) VALUES ('BKLN', 20.38 , 20.35 , -0.15 , -0.0073 , 5e-04 ,'USD','Y',GETDATE());\"\n"
     ]
    }
   ],
   "source": [
    "sync_web_to_db(conn)"
   ]
  },
  {
   "cell_type": "markdown",
   "id": "8947a32d-5397-4109-9a96-14ca49315196",
   "metadata": {},
   "source": [
    "### Demonstrate tables are populated"
   ]
  },
  {
   "cell_type": "code",
   "execution_count": 27,
   "id": "5e53f270-a776-4f4d-a2c3-61e646720b83",
   "metadata": {},
   "outputs": [
    {
     "data": {
      "text/html": [
       "<table class=\"dataframe\">\n",
       "<caption>A data.frame: 1 × 11</caption>\n",
       "<thead>\n",
       "\t<tr><th></th><th scope=col>ID</th><th scope=col>TICKER</th><th scope=col>LAST_TRADE</th><th scope=col>CURRENT_IIV</th><th scope=col>CHANGE</th><th scope=col>CHANGE_PCT</th><th scope=col>NAV_AT_MKT_CLOSE</th><th scope=col>CURRENCY_CODE</th><th scope=col>CREATED_TSTP</th><th scope=col>UPDATED_TSTP</th><th scope=col>LATEST_FLAG</th></tr>\n",
       "\t<tr><th></th><th scope=col>&lt;int&gt;</th><th scope=col>&lt;chr&gt;</th><th scope=col>&lt;dbl&gt;</th><th scope=col>&lt;dbl&gt;</th><th scope=col>&lt;dbl&gt;</th><th scope=col>&lt;dbl&gt;</th><th scope=col>&lt;dbl&gt;</th><th scope=col>&lt;chr&gt;</th><th scope=col>&lt;dttm&gt;</th><th scope=col>&lt;dttm&gt;</th><th scope=col>&lt;chr&gt;</th></tr>\n",
       "</thead>\n",
       "<tbody>\n",
       "\t<tr><th scope=row>1</th><td>1</td><td>BKLN</td><td>20.34</td><td>20.49</td><td>-0.04</td><td>-0.002</td><td>20.5</td><td>USD</td><td>2022-09-28 13:11:30</td><td>NA</td><td>Y</td></tr>\n",
       "</tbody>\n",
       "</table>\n"
      ],
      "text/latex": [
       "A data.frame: 1 × 11\n",
       "\\begin{tabular}{r|lllllllllll}\n",
       "  & ID & TICKER & LAST\\_TRADE & CURRENT\\_IIV & CHANGE & CHANGE\\_PCT & NAV\\_AT\\_MKT\\_CLOSE & CURRENCY\\_CODE & CREATED\\_TSTP & UPDATED\\_TSTP & LATEST\\_FLAG\\\\\n",
       "  & <int> & <chr> & <dbl> & <dbl> & <dbl> & <dbl> & <dbl> & <chr> & <dttm> & <dttm> & <chr>\\\\\n",
       "\\hline\n",
       "\t1 & 1 & BKLN & 20.34 & 20.49 & -0.04 & -0.002 & 20.5 & USD & 2022-09-28 13:11:30 & NA & Y\\\\\n",
       "\\end{tabular}\n"
      ],
      "text/markdown": [
       "\n",
       "A data.frame: 1 × 11\n",
       "\n",
       "| <!--/--> | ID &lt;int&gt; | TICKER &lt;chr&gt; | LAST_TRADE &lt;dbl&gt; | CURRENT_IIV &lt;dbl&gt; | CHANGE &lt;dbl&gt; | CHANGE_PCT &lt;dbl&gt; | NAV_AT_MKT_CLOSE &lt;dbl&gt; | CURRENCY_CODE &lt;chr&gt; | CREATED_TSTP &lt;dttm&gt; | UPDATED_TSTP &lt;dttm&gt; | LATEST_FLAG &lt;chr&gt; |\n",
       "|---|---|---|---|---|---|---|---|---|---|---|---|\n",
       "| 1 | 1 | BKLN | 20.34 | 20.49 | -0.04 | -0.002 | 20.5 | USD | 2022-09-28 13:11:30 | NA | Y |\n",
       "\n"
      ],
      "text/plain": [
       "  ID TICKER LAST_TRADE CURRENT_IIV CHANGE CHANGE_PCT NAV_AT_MKT_CLOSE\n",
       "1 1  BKLN   20.34      20.49       -0.04  -0.002     20.5            \n",
       "  CURRENCY_CODE CREATED_TSTP        UPDATED_TSTP LATEST_FLAG\n",
       "1 USD           2022-09-28 13:11:30 <NA>         Y          "
      ]
     },
     "metadata": {},
     "output_type": "display_data"
    }
   ],
   "source": [
    "sqlQuery(conn,\"select * from WEB_DAILY.INTRADAY_STATS\")"
   ]
  },
  {
   "cell_type": "code",
   "execution_count": 28,
   "id": "d08fa00b-1403-41e7-a322-0653c13b3d32",
   "metadata": {},
   "outputs": [
    {
     "data": {
      "text/html": [
       "<table class=\"dataframe\">\n",
       "<caption>A data.frame: 1 × 10</caption>\n",
       "<thead>\n",
       "\t<tr><th></th><th scope=col>ID</th><th scope=col>TICKER</th><th scope=col>SEC_30DAY_YIELD</th><th scope=col>DISTRIBUTION_RATE</th><th scope=col>DISTRIBUTION_RATE_12MNTH</th><th scope=col>SEC_30DAY_UNSUB_YIELD</th><th scope=col>CURRENCY_CODE</th><th scope=col>CREATED_TSTP</th><th scope=col>UPDATED_TSTP</th><th scope=col>LATEST_FLAG</th></tr>\n",
       "\t<tr><th></th><th scope=col>&lt;int&gt;</th><th scope=col>&lt;chr&gt;</th><th scope=col>&lt;dbl&gt;</th><th scope=col>&lt;dbl&gt;</th><th scope=col>&lt;dbl&gt;</th><th scope=col>&lt;dbl&gt;</th><th scope=col>&lt;chr&gt;</th><th scope=col>&lt;dttm&gt;</th><th scope=col>&lt;dttm&gt;</th><th scope=col>&lt;chr&gt;</th></tr>\n",
       "</thead>\n",
       "<tbody>\n",
       "\t<tr><th scope=row>1</th><td>1</td><td>BKLN</td><td>0.059</td><td>0.051</td><td>0.037</td><td>0.059</td><td>USD</td><td>2022-09-28 13:11:40</td><td>NA</td><td>Y</td></tr>\n",
       "</tbody>\n",
       "</table>\n"
      ],
      "text/latex": [
       "A data.frame: 1 × 10\n",
       "\\begin{tabular}{r|llllllllll}\n",
       "  & ID & TICKER & SEC\\_30DAY\\_YIELD & DISTRIBUTION\\_RATE & DISTRIBUTION\\_RATE\\_12MNTH & SEC\\_30DAY\\_UNSUB\\_YIELD & CURRENCY\\_CODE & CREATED\\_TSTP & UPDATED\\_TSTP & LATEST\\_FLAG\\\\\n",
       "  & <int> & <chr> & <dbl> & <dbl> & <dbl> & <dbl> & <chr> & <dttm> & <dttm> & <chr>\\\\\n",
       "\\hline\n",
       "\t1 & 1 & BKLN & 0.059 & 0.051 & 0.037 & 0.059 & USD & 2022-09-28 13:11:40 & NA & Y\\\\\n",
       "\\end{tabular}\n"
      ],
      "text/markdown": [
       "\n",
       "A data.frame: 1 × 10\n",
       "\n",
       "| <!--/--> | ID &lt;int&gt; | TICKER &lt;chr&gt; | SEC_30DAY_YIELD &lt;dbl&gt; | DISTRIBUTION_RATE &lt;dbl&gt; | DISTRIBUTION_RATE_12MNTH &lt;dbl&gt; | SEC_30DAY_UNSUB_YIELD &lt;dbl&gt; | CURRENCY_CODE &lt;chr&gt; | CREATED_TSTP &lt;dttm&gt; | UPDATED_TSTP &lt;dttm&gt; | LATEST_FLAG &lt;chr&gt; |\n",
       "|---|---|---|---|---|---|---|---|---|---|---|\n",
       "| 1 | 1 | BKLN | 0.059 | 0.051 | 0.037 | 0.059 | USD | 2022-09-28 13:11:40 | NA | Y |\n",
       "\n"
      ],
      "text/plain": [
       "  ID TICKER SEC_30DAY_YIELD DISTRIBUTION_RATE DISTRIBUTION_RATE_12MNTH\n",
       "1 1  BKLN   0.059           0.051             0.037                   \n",
       "  SEC_30DAY_UNSUB_YIELD CURRENCY_CODE CREATED_TSTP        UPDATED_TSTP\n",
       "1 0.059                 USD           2022-09-28 13:11:40 <NA>        \n",
       "  LATEST_FLAG\n",
       "1 Y          "
      ]
     },
     "metadata": {},
     "output_type": "display_data"
    }
   ],
   "source": [
    "sqlQuery(conn,\"select * from WEB_DAILY.YIELD\")"
   ]
  },
  {
   "cell_type": "code",
   "execution_count": 29,
   "id": "3cd1210d-73ff-4be0-8551-afdc1544dc17",
   "metadata": {},
   "outputs": [
    {
     "data": {
      "text/html": [
       "<table class=\"dataframe\">\n",
       "<caption>A data.frame: 1 × 11</caption>\n",
       "<thead>\n",
       "\t<tr><th></th><th scope=col>ID</th><th scope=col>TICKER</th><th scope=col>CLOSING_PRICE</th><th scope=col>BID_ASK_MIDPOINT</th><th scope=col>BID_ASK_PREM_DISC</th><th scope=col>BID_ASK_PREM_DISC_PCT</th><th scope=col>MEDIAN_BID_ASK_SPREAD</th><th scope=col>CURRENCY_CODE</th><th scope=col>CREATED_TSTP</th><th scope=col>UPDATED_TSTP</th><th scope=col>LATEST_FLAG</th></tr>\n",
       "\t<tr><th></th><th scope=col>&lt;int&gt;</th><th scope=col>&lt;chr&gt;</th><th scope=col>&lt;dbl&gt;</th><th scope=col>&lt;dbl&gt;</th><th scope=col>&lt;dbl&gt;</th><th scope=col>&lt;dbl&gt;</th><th scope=col>&lt;dbl&gt;</th><th scope=col>&lt;chr&gt;</th><th scope=col>&lt;dttm&gt;</th><th scope=col>&lt;dttm&gt;</th><th scope=col>&lt;chr&gt;</th></tr>\n",
       "</thead>\n",
       "<tbody>\n",
       "\t<tr><th scope=row>1</th><td>1</td><td>BKLN</td><td>20.38</td><td>20.35</td><td>-0.15</td><td>-0.007</td><td>0.001</td><td>USD</td><td>2022-09-28 13:11:53</td><td>NA</td><td>Y</td></tr>\n",
       "</tbody>\n",
       "</table>\n"
      ],
      "text/latex": [
       "A data.frame: 1 × 11\n",
       "\\begin{tabular}{r|lllllllllll}\n",
       "  & ID & TICKER & CLOSING\\_PRICE & BID\\_ASK\\_MIDPOINT & BID\\_ASK\\_PREM\\_DISC & BID\\_ASK\\_PREM\\_DISC\\_PCT & MEDIAN\\_BID\\_ASK\\_SPREAD & CURRENCY\\_CODE & CREATED\\_TSTP & UPDATED\\_TSTP & LATEST\\_FLAG\\\\\n",
       "  & <int> & <chr> & <dbl> & <dbl> & <dbl> & <dbl> & <dbl> & <chr> & <dttm> & <dttm> & <chr>\\\\\n",
       "\\hline\n",
       "\t1 & 1 & BKLN & 20.38 & 20.35 & -0.15 & -0.007 & 0.001 & USD & 2022-09-28 13:11:53 & NA & Y\\\\\n",
       "\\end{tabular}\n"
      ],
      "text/markdown": [
       "\n",
       "A data.frame: 1 × 11\n",
       "\n",
       "| <!--/--> | ID &lt;int&gt; | TICKER &lt;chr&gt; | CLOSING_PRICE &lt;dbl&gt; | BID_ASK_MIDPOINT &lt;dbl&gt; | BID_ASK_PREM_DISC &lt;dbl&gt; | BID_ASK_PREM_DISC_PCT &lt;dbl&gt; | MEDIAN_BID_ASK_SPREAD &lt;dbl&gt; | CURRENCY_CODE &lt;chr&gt; | CREATED_TSTP &lt;dttm&gt; | UPDATED_TSTP &lt;dttm&gt; | LATEST_FLAG &lt;chr&gt; |\n",
       "|---|---|---|---|---|---|---|---|---|---|---|---|\n",
       "| 1 | 1 | BKLN | 20.38 | 20.35 | -0.15 | -0.007 | 0.001 | USD | 2022-09-28 13:11:53 | NA | Y |\n",
       "\n"
      ],
      "text/plain": [
       "  ID TICKER CLOSING_PRICE BID_ASK_MIDPOINT BID_ASK_PREM_DISC\n",
       "1 1  BKLN   20.38         20.35            -0.15            \n",
       "  BID_ASK_PREM_DISC_PCT MEDIAN_BID_ASK_SPREAD CURRENCY_CODE CREATED_TSTP       \n",
       "1 -0.007                0.001                 USD           2022-09-28 13:11:53\n",
       "  UPDATED_TSTP LATEST_FLAG\n",
       "1 <NA>         Y          "
      ]
     },
     "metadata": {},
     "output_type": "display_data"
    }
   ],
   "source": [
    "sqlQuery(conn,\"select * from WEB_DAILY.PRIOR_CLOSE\")"
   ]
  },
  {
   "cell_type": "code",
   "execution_count": 30,
   "id": "fa9ebdab-a525-4b1b-8912-483d41bee90c",
   "metadata": {},
   "outputs": [],
   "source": [
    "#close connection\n",
    "odbcClose(conn)"
   ]
  },
  {
   "cell_type": "code",
   "execution_count": null,
   "id": "0864b782-2b5f-4bb4-bc80-c89a9dd8e852",
   "metadata": {},
   "outputs": [],
   "source": []
  }
 ],
 "metadata": {
  "kernelspec": {
   "display_name": "R",
   "language": "R",
   "name": "ir"
  },
  "language_info": {
   "codemirror_mode": "r",
   "file_extension": ".r",
   "mimetype": "text/x-r-source",
   "name": "R",
   "pygments_lexer": "r",
   "version": "4.2.1"
  }
 },
 "nbformat": 4,
 "nbformat_minor": 5
}
